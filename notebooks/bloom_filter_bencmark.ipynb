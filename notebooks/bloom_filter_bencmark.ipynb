{
 "cells": [
  {
   "cell_type": "markdown",
   "metadata": {},
   "source": [
    "# Bloom filter bencmark"
   ]
  },
  {
   "cell_type": "code",
   "execution_count": 1,
   "metadata": {},
   "outputs": [],
   "source": [
    "from bloom_filter import BloomFilter\n",
    "from bloom_filter.tools import false_positive_rate,\\\n",
    "    minimal_memory_footprint\n",
    "import matplotlib.pyplot as plt"
   ]
  },
  {
   "cell_type": "markdown",
   "metadata": {},
   "source": [
    "## 1. Error rate:\n",
    "The bloom filter guarantees a null false negative rate and a controlled false positive rate.  \n",
    "Let's verify these assertions."
   ]
  },
  {
   "cell_type": "code",
   "execution_count": 2,
   "metadata": {},
   "outputs": [],
   "source": [
    "BIT_ARRAY_SIZE = 10 ** 5\n",
    "NB_SALT = 20\n",
    "INPUT_CARDINAL = 10 ** 4"
   ]
  },
  {
   "cell_type": "code",
   "execution_count": 3,
   "metadata": {},
   "outputs": [
    {
     "name": "stderr",
     "output_type": "stream",
     "text": [
      "2019-10-20 12:22:34,653 - bloom_filter.bloom_filter - INFO - Bloom filter parameters: bit-array size: 100000 number of hash functions: 20\n"
     ]
    }
   ],
   "source": [
    "bloom_filter = BloomFilter(bit_array_size=BIT_ARRAY_SIZE, \n",
    "                           nb_salt=NB_SALT)"
   ]
  },
  {
   "cell_type": "code",
   "execution_count": 4,
   "metadata": {},
   "outputs": [],
   "source": [
    "for item in range(INPUT_CARDINAL):\n",
    "    bloom_filter.add_item(item=item)"
   ]
  },
  {
   "cell_type": "code",
   "execution_count": 5,
   "metadata": {},
   "outputs": [
    {
     "name": "stdout",
     "output_type": "stream",
     "text": [
      "Experience false negative rate: 0.0%\n"
     ]
    }
   ],
   "source": [
    "false_negative_count = 0\n",
    "for item in range(INPUT_CARDINAL):\n",
    "    if not bloom_filter.retrieve_item(item=item):\n",
    "        false_negative_count += 1\n",
    "experience_false_negative_rate = round(false_negative_count / INPUT_CARDINAL, 3) * 100\n",
    "\n",
    "print(f'Experience false negative rate: {experience_false_negative_rate}%')"
   ]
  },
  {
   "cell_type": "code",
   "execution_count": 6,
   "metadata": {},
   "outputs": [
    {
     "name": "stdout",
     "output_type": "stream",
     "text": [
      "Experience false positive rate: 4.6%\n"
     ]
    }
   ],
   "source": [
    "false_positive_count = 0\n",
    "for item in range(INPUT_CARDINAL, 2 * INPUT_CARDINAL):\n",
    "    if bloom_filter.retrieve_item(item=item):\n",
    "        false_positive_count += 1\n",
    "experience_false_positive_rate = round(false_positive_count / INPUT_CARDINAL, 3) * 100\n",
    "\n",
    "print(f'Experience false positive rate: {experience_false_positive_rate}%')"
   ]
  },
  {
   "cell_type": "code",
   "execution_count": 7,
   "metadata": {},
   "outputs": [
    {
     "name": "stdout",
     "output_type": "stream",
     "text": [
      "Theory false positive rate: 5.5%\n"
     ]
    }
   ],
   "source": [
    "theory_false_positive_rate = round(false_positive_rate(bit_array_size=BIT_ARRAY_SIZE, \n",
    "                                                 nb_salt=NB_SALT, \n",
    "                                                 input_cardinal=INPUT_CARDINAL), 3) * 100\n",
    "print(f'Theory false positive rate: {theory_false_positive_rate}%')"
   ]
  },
  {
   "cell_type": "markdown",
   "metadata": {},
   "source": [
    "### All good !\n",
    "We have experimentally verified that our implementation of bloom filter has null false positive rate and false positive rate equivalent to the theory."
   ]
  },
  {
   "cell_type": "markdown",
   "metadata": {},
   "source": [
    "## 2. Minimal false positive rate:\n",
    "If you know your memory constraints (memory limits) and your input cardinality you can aim for the minimal false positive rate Bloom filter by using the ```BloomFilter.minimal_false_positive_rate_bloom_filter``` class method."
   ]
  },
  {
   "cell_type": "code",
   "execution_count": 8,
   "metadata": {},
   "outputs": [
    {
     "name": "stderr",
     "output_type": "stream",
     "text": [
      "2019-10-20 12:22:35,265 - bloom_filter.bloom_filter - INFO - False positive rate: 0.8%\n",
      "2019-10-20 12:22:35,267 - bloom_filter.bloom_filter - INFO - Bloom filter parameters: bit-array size: 100000 number of hash functions: 7\n"
     ]
    }
   ],
   "source": [
    "bloom_filter = BloomFilter.minimal_false_positive_rate_bloom_filter(\n",
    "    bit_array_size=BIT_ARRAY_SIZE, \n",
    "    input_cardinal=INPUT_CARDINAL)"
   ]
  },
  {
   "cell_type": "code",
   "execution_count": 14,
   "metadata": {},
   "outputs": [
    {
     "name": "stdout",
     "output_type": "stream",
     "text": [
      "Minimal false positive rate: 0.8% using 7 hash functions\n"
     ]
    }
   ],
   "source": [
    "optimal_nb_salt = bloom_filter.nb_salt\n",
    "minimal_false_positive_rate = false_positive_rate(bit_array_size=BIT_ARRAY_SIZE, \n",
    "                                                  nb_salt=optimal_nb_salt, \n",
    "                                                  input_cardinal=INPUT_CARDINAL)\n",
    "print(f'Minimal false positive rate: {round(minimal_false_positive_rate, 3)*100}% \\\n",
    "using {optimal_nb_salt} hash functions')"
   ]
  },
  {
   "cell_type": "markdown",
   "metadata": {},
   "source": [
    "So, the best performance we can get using these fixed parameters is around 0.8% error rate.  \n",
    "Let's check this out !"
   ]
  },
  {
   "cell_type": "code",
   "execution_count": 19,
   "metadata": {},
   "outputs": [
    {
     "data": {
      "image/png": "[encoded data removed]",
      "text/plain": [
       "<Figure size 1080x360 with 1 Axes>"
      ]
     },
     "metadata": {
      "needs_background": "light"
     },
     "output_type": "display_data"
    }
   ],
   "source": [
    "sample_nb_salt = [x / 4 for x in range(40)] + [x for x in range(10, 50)]\n",
    "sample_false_positive_rate = [\n",
    "    false_positive_rate(\n",
    "        bit_array_size=BIT_ARRAY_SIZE, \n",
    "        nb_salt=nb_salt, \n",
    "        input_cardinal=INPUT_CARDINAL\n",
    "    ) for nb_salt in sample_nb_salt]\n",
    "plt.figure(figsize=(15,5))\n",
    "plt.title(\"False positive rate = f(hash functions count)\")\n",
    "plt.xlabel(\"Hash functions count\")\n",
    "plt.ylabel(\"False positive rate\")\n",
    "plt.plot(sample_nb_salt, sample_false_positive_rate)\n",
    "plt.plot(optimal_nb_salt, minimal_false_positive_rate, marker='o', color='r')\n",
    "plt.show()"
   ]
  },
  {
   "cell_type": "markdown",
   "metadata": {},
   "source": [
    "## 3. Minimal memory footprint\n",
    "If you already know your input cardinality and the desired error rate you can aim for the minimal memory footprint Bloom filter by using the class method ```BloomFilter.minimal_memory_bloom_filter```"
   ]
  },
  {
   "cell_type": "code",
   "execution_count": 20,
   "metadata": {},
   "outputs": [],
   "source": [
    "ERROR_RATE = 0.05"
   ]
  },
  {
   "cell_type": "code",
   "execution_count": 21,
   "metadata": {},
   "outputs": [
    {
     "name": "stderr",
     "output_type": "stream",
     "text": [
      "2019-10-20 12:31:08,465 - bloom_filter.bloom_filter - INFO - False positive rate: 5.0%\n",
      "2019-10-20 12:31:08,467 - bloom_filter.bloom_filter - INFO - Bloom filter parameters: bit-array size: 62353 number of hash functions: 4\n"
     ]
    }
   ],
   "source": [
    "bloom_filter = BloomFilter.minimal_memory_bloom_filter(error_rate=ERROR_RATE,\n",
    "                                                       input_cardinal=INPUT_CARDINAL)"
   ]
  },
  {
   "cell_type": "markdown",
   "metadata": {},
   "source": [
    "Let's check how the memory footprint scales with input cardinality and false positive rate. \n",
    "  \n",
    "__Input cardinality__"
   ]
  },
  {
   "cell_type": "code",
   "execution_count": 22,
   "metadata": {},
   "outputs": [
    {
     "data": {
      "image/png": "[encoded data removed]",
      "text/plain": [
       "<Figure size 360x360 with 1 Axes>"
      ]
     },
     "metadata": {
      "needs_background": "light"
     },
     "output_type": "display_data"
    }
   ],
   "source": [
    "sample_input_cardial = [10**x for x in range(1, 10)]\n",
    "sample_bit_array_size = [minimal_memory_footprint(input_cardinal=input_cardinal, \n",
    "                                                  error_rate=ERROR_RATE) \\\n",
    "                         for input_cardinal in sample_input_cardial]\n",
    "plt.figure(figsize=(5,5))\n",
    "plt.title(\"Memory footprint = f(input cardinal)\")\n",
    "plt.xlabel(\"Input cardinal\")\n",
    "plt.ylabel(\"Memory footprint\")\n",
    "plt.loglog(sample_input_cardial, sample_bit_array_size)\n",
    "plt.show()"
   ]
  },
  {
   "cell_type": "markdown",
   "metadata": {},
   "source": [
    "The bloom filter scales linearly with input cardinality ( O(input cardinality) ).  \n",
    "  \n",
    "__False positive rate__  "
   ]
  },
  {
   "cell_type": "code",
   "execution_count": 30,
   "metadata": {},
   "outputs": [
    {
     "data": {
      "image/png": "[encoded data removed]",
      "text/plain": [
       "<Figure size 1080x360 with 1 Axes>"
      ]
     },
     "metadata": {
      "needs_background": "light"
     },
     "output_type": "display_data"
    }
   ],
   "source": [
    "sample_log_error_rate = [x for x in range(1, 100)]\n",
    "sample_bit_array_size = [minimal_memory_footprint(input_cardinal=INPUT_CARDINAL, \n",
    "                                                  error_rate=10**-log_error_rate) \\\n",
    "                         for log_error_rate in sample_log_error_rate]\n",
    "plt.figure(figsize=(15,5))\n",
    "plt.title(\"Memory footprint = f(error rate)\")\n",
    "plt.xlabel(\"- Log(error rate)\")\n",
    "plt.ylabel(\"Memory footprint\")\n",
    "plt.semilogy(sample_log_error_rate, sample_bit_array_size)\n",
    "plt.show()"
   ]
  },
  {
   "cell_type": "markdown",
   "metadata": {},
   "source": [
    "The bloom filter sacles logarithmicly with error rate ( O(log(error rate) )."
   ]
  }
 ],
 "metadata": {
  "kernelspec": {
   "display_name": "Python 3",
   "language": "python",
   "name": "python3"
  },
  "language_info": {
   "codemirror_mode": {
    "name": "ipython",
    "version": 3
   },
   "file_extension": ".py",
   "mimetype": "text/x-python",
   "name": "python",
   "nbconvert_exporter": "python",
   "pygments_lexer": "ipython3",
   "version": "3.6.9"
  }
 },
 "nbformat": 4,
 "nbformat_minor": 2
}
